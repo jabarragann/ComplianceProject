{
 "cells": [
  {
   "cell_type": "code",
   "execution_count": 2,
   "metadata": {},
   "outputs": [],
   "source": [
    "from typing import List\n",
    "import sympy as sym\n",
    "from spatialmath import SE3\n",
    "from spatialmath.base import *\n",
    "import numpy as np\n",
    "from numpy import sin, cos\n",
    "from roboticstoolbox import ETS as ET\n",
    "import roboticstoolbox as rtb\n",
    "import matplotlib.pyplot as plt\n",
    "from spatialmath import SE3\n",
    "\n",
    "np.set_printoptions(precision=4, suppress=True, sign=\" \")"
   ]
  },
  {
   "cell_type": "code",
   "execution_count": 5,
   "metadata": {},
   "outputs": [],
   "source": [
    "def fkins(q5,q6, unit:str='rad'):\n",
    "    pitch2yaw = 0.0092\n",
    "    if unit == 'deg':\n",
    "        q5 = q5*np.pi/180\n",
    "        q6 = q6*np.pi/180\n",
    "\n",
    "    alpha = 90 * np.pi/180\n",
    "    #fmt:off\n",
    "    transf = [ \\\n",
    "    [-sin(q5)*sin(q6)*cos(alpha)+cos(q5)*cos(q6), -sin(q5)*cos(alpha)*cos(q6)-sin(q6)*cos(q5),sin(alpha)*sin(q5),pitch2yaw*cos(q5)],\\\n",
    "    [ sin(q5)*cos(q6)+sin(q6)*cos(alpha)*cos(q5),-sin(q5)*sin(q6)+cos(alpha)*cos(q5)*cos(q6),-sin(alpha)*cos(q5),pitch2yaw*sin(q5)],\\\n",
    "    [ sin(alpha)*sin(q6), sin(alpha)*cos(q6), 0 , cos(alpha)],\\\n",
    "    [0,0,0,1]\n",
    "    ]\n",
    "    #fmt:on\n",
    "    return np.array(transf)\n",
    "\n",
    "def create_robot():\n",
    "    pitch2yaw = 0.0092\n",
    "    E = ET.rz() * ET.tx(pitch2yaw) * ET.rx(90, \"deg\") * ET.rz() *  ET.tx(0.1) * ET.tz(0.1) \n",
    "    robot = rtb.ERobot(E, name=\"test\")\n",
    "    return robot\n",
    "\n",
    "def rtb_fkins(q5,q6,unit:str='rad'):\n",
    "    pitch2yaw = 0.0092\n",
    "    E = ET.rz() * ET.tx(pitch2yaw) * ET.rx(90, \"deg\") * ET.rz() #*  ET.tx(0.1) * ET.tz(0.1)\n",
    "    robot = rtb.ERobot(E, name=\"test\")\n",
    "    return robot.fkine([q5,q6],unit=unit) "
   ]
  },
  {
   "cell_type": "code",
   "execution_count": 6,
   "metadata": {},
   "outputs": [
    {
     "name": "stdout",
     "output_type": "stream",
     "text": [
      "my implementation\n",
      "[[ 0.6124 -0.6124  0.5     0.008 ]\n",
      " [ 0.3536 -0.3536 -0.866   0.0046]\n",
      " [ 0.7071  0.7071  0.      0.    ]\n",
      " [ 0.      0.      0.      1.    ]]\n",
      "robot toolbox implementation\n",
      "[[ 0.6124 -0.6124  0.5     0.008 ]\n",
      " [ 0.3536 -0.3536 -0.866   0.0046]\n",
      " [ 0.7071  0.7071  0.      0.    ]\n",
      " [ 0.      0.      0.      1.    ]]\n",
      "Difference between implementations\n",
      "[[ 0.  0.  0.  0.]\n",
      " [ 0.  0.  0.  0.]\n",
      " [ 0.  0. -0.  0.]\n",
      " [ 0.  0.  0.  0.]]\n"
     ]
    }
   ],
   "source": [
    "# My implementation\n",
    "print(\"my implementation\")\n",
    "print(fkins(30,45,'deg'))\n",
    "print(\"robot toolbox implementation\")\n",
    "robot_sol = rtb_fkins(30,45,'deg').data[0]\n",
    "print(robot_sol)\n",
    "print(\"Difference between implementations\")\n",
    "print(fkins(30,45,'deg')-robot_sol)"
   ]
  },
  {
   "cell_type": "code",
   "execution_count": 7,
   "metadata": {},
   "outputs": [
    {
     "name": "stdout",
     "output_type": "stream",
     "text": [
      "IKsolution(q=array([ 0.5245,  0.7854]), success=False, reason='rejected-step limit 100 exceeded', iterations=108, residual=0.14141836592818435)\n",
      "[ 30.0527  45.    ]\n"
     ]
    }
   ],
   "source": [
    "robot_sol = rtb_fkins(30,45,'deg')\n",
    "robot = create_robot()\n",
    "s = robot.ikine_LM(robot_sol)\n",
    "print(s)\n",
    "q = s.q*180/np.pi\n",
    "print(q)"
   ]
  },
  {
   "cell_type": "code",
   "execution_count": 8,
   "metadata": {},
   "outputs": [
    {
     "name": "stdout",
     "output_type": "stream",
     "text": [
      "   0.75     -0.433     0.5       0.133     \n",
      "   0.433    -0.25     -0.866    -0.0387    \n",
      "   0.5       0.866     0         0.05      \n",
      "   0         0         0         1         \n",
      "\n",
      "IKsolution(q=array([ 0.5236,  0.5236]), success=True, reason=None, iterations=7, residual=4.393974521071345e-11)\n",
      "[ 30.  30.]\n",
      "   0.75     -0.433     0.5       0.133     \n",
      "   0.433    -0.25     -0.866    -0.0387    \n",
      "   0.5       0.866     0         0.05      \n",
      "   0         0         0         1         \n",
      "\n",
      "IKsolution(q=array([ 0.5236,  0.5236]), success=True, reason=None, iterations=7, residual=4.393974521071345e-11)\n",
      "[ 30.  30.]\n"
     ]
    }
   ],
   "source": [
    "pitch2yaw = 0.0092\n",
    "E = ET.rz() * ET.tx(pitch2yaw) * ET.rx(90, \"deg\") * ET.rz() *  ET.tx(0.1) * ET.tz(0.1) \n",
    "robot1 = rtb.ERobot(E, name=\"test\")\n",
    "\n",
    "end_effector = SE3(0.1, 0.0, 0.1)\n",
    "E = ET.rz() * ET.tx(pitch2yaw) * ET.rx(90, \"deg\") * ET.rz() \n",
    "robot2 = rtb.ERobot(E, name=\"test2\",tool=end_effector)\n",
    "\n",
    "robot_sol1 = robot1.fkine([30, 30], \"deg\")\n",
    "robot_sol2 = robot2.fkine([30, 30], \"deg\")\n",
    "\n",
    "s1 = robot1.ikine_LM(robot_sol1)\n",
    "q1 = s1.q*180/np.pi\n",
    "s2 = robot2.ikine_LM(robot_sol2)\n",
    "q2 = s2.q*180/np.pi\n",
    "\n",
    "print(robot_sol1)\n",
    "print(s1)\n",
    "print(q1)\n",
    "print(robot_sol2)\n",
    "print(s2)\n",
    "print(q2)"
   ]
  },
  {
   "cell_type": "markdown",
   "metadata": {},
   "source": [
    "## Mathematical derivation"
   ]
  },
  {
   "cell_type": "code",
   "execution_count": 9,
   "metadata": {},
   "outputs": [
    {
     "data": {
      "text/latex": [
       "$\\displaystyle \\left[\\begin{matrix}\\cos{\\left(\\theta_{5} \\right)} & - \\sin{\\left(\\theta_{5} \\right)} & 0 & 0\\\\\\sin{\\left(\\theta_{5} \\right)} & \\cos{\\left(\\theta_{5} \\right)} & 0 & 0\\\\0 & 0 & 1 & 0\\\\0 & 0 & 0 & 1\\end{matrix}\\right]$"
      ],
      "text/plain": [
       "Matrix([\n",
       "[cos(theta5), -sin(theta5), 0, 0],\n",
       "[sin(theta5),  cos(theta5), 0, 0],\n",
       "[          0,            0, 1, 0],\n",
       "[          0,            0, 0, 1]])"
      ]
     },
     "execution_count": 9,
     "metadata": {},
     "output_type": "execute_result"
    }
   ],
   "source": [
    "#Transformation 1\n",
    "theta = sym.symbols('theta5')\n",
    "t1 = trotz(theta)\n",
    "t1_sym = sym.Matrix(list(t1))\n",
    "t1_sym"
   ]
  },
  {
   "cell_type": "code",
   "execution_count": 10,
   "metadata": {},
   "outputs": [
    {
     "data": {
      "text/latex": [
       "$\\displaystyle \\left[\\begin{matrix}1 & 0 & 0 & pitch2yaw\\\\0 & 1 & 0 & 0\\\\0 & 0 & 1 & 0\\\\0 & 0 & 0 & 1\\end{matrix}\\right]$"
      ],
      "text/plain": [
       "Matrix([\n",
       "[1, 0, 0, pitch2yaw],\n",
       "[0, 1, 0,         0],\n",
       "[0, 0, 1,         0],\n",
       "[0, 0, 0,         1]])"
      ]
     },
     "execution_count": 10,
     "metadata": {},
     "output_type": "execute_result"
    }
   ],
   "source": [
    "#Transformation 2\n",
    "pitch2yaw = 0.092\n",
    "pitch2yaw = sym.symbols('pitch2yaw')\n",
    "t2 = transl(pitch2yaw,0,0)\n",
    "t2_sym = sym.Matrix(list(t2))\n",
    "t2_sym"
   ]
  },
  {
   "cell_type": "code",
   "execution_count": 11,
   "metadata": {},
   "outputs": [
    {
     "data": {
      "text/latex": [
       "$\\displaystyle \\left[\\begin{matrix}1.0 & 0 & 0 & 0\\\\0 & 0 & -1.0 & 0\\\\0 & 1.0 & 0 & 0\\\\0 & 0 & 0 & 1.0\\end{matrix}\\right]$"
      ],
      "text/plain": [
       "Matrix([\n",
       "[1.0,   0,    0,   0],\n",
       "[  0,   0, -1.0,   0],\n",
       "[  0, 1.0,    0,   0],\n",
       "[  0,   0,    0, 1.0]])"
      ]
     },
     "execution_count": 11,
     "metadata": {},
     "output_type": "execute_result"
    }
   ],
   "source": [
    "eps = 1e-12\n",
    "#Transformation 3\n",
    "# theta = sym.symbols('alpha')\n",
    "# t3 = trotx(theta)\n",
    "t3 = trotx(np.pi/2,unit='rad')\n",
    "t3[abs(t3) < eps] = 0\n",
    "t3_sym = sym.Matrix(list(t3))\n",
    "t3_sym"
   ]
  },
  {
   "cell_type": "code",
   "execution_count": 12,
   "metadata": {},
   "outputs": [
    {
     "data": {
      "text/latex": [
       "$\\displaystyle \\left[\\begin{matrix}\\cos{\\left(\\theta_{6} \\right)} & - \\sin{\\left(\\theta_{6} \\right)} & 0 & 0\\\\\\sin{\\left(\\theta_{6} \\right)} & \\cos{\\left(\\theta_{6} \\right)} & 0 & 0\\\\0 & 0 & 1 & 0\\\\0 & 0 & 0 & 1\\end{matrix}\\right]$"
      ],
      "text/plain": [
       "Matrix([\n",
       "[cos(theta6), -sin(theta6), 0, 0],\n",
       "[sin(theta6),  cos(theta6), 0, 0],\n",
       "[          0,            0, 1, 0],\n",
       "[          0,            0, 0, 1]])"
      ]
     },
     "execution_count": 12,
     "metadata": {},
     "output_type": "execute_result"
    }
   ],
   "source": [
    "#Transformation 4\n",
    "theta = sym.symbols('theta6')\n",
    "t4 = trotz(theta)\n",
    "t4_sym = sym.Matrix(list(t4))\n",
    "t4_sym"
   ]
  },
  {
   "cell_type": "code",
   "execution_count": 13,
   "metadata": {},
   "outputs": [
    {
     "data": {
      "text/latex": [
       "$\\displaystyle \\left[\\begin{matrix}1.0 \\cos{\\left(\\theta_{5} \\right)} \\cos{\\left(\\theta_{6} \\right)} & - 1.0 \\sin{\\left(\\theta_{6} \\right)} \\cos{\\left(\\theta_{5} \\right)} & 1.0 \\sin{\\left(\\theta_{5} \\right)} & 1.0 pitch2yaw \\cos{\\left(\\theta_{5} \\right)}\\\\1.0 \\sin{\\left(\\theta_{5} \\right)} \\cos{\\left(\\theta_{6} \\right)} & - 1.0 \\sin{\\left(\\theta_{5} \\right)} \\sin{\\left(\\theta_{6} \\right)} & - 1.0 \\cos{\\left(\\theta_{5} \\right)} & 1.0 pitch2yaw \\sin{\\left(\\theta_{5} \\right)}\\\\1.0 \\sin{\\left(\\theta_{6} \\right)} & 1.0 \\cos{\\left(\\theta_{6} \\right)} & 0 & 0\\\\0 & 0 & 0 & 1.0\\end{matrix}\\right]$"
      ],
      "text/plain": [
       "Matrix([\n",
       "[1.0*cos(theta5)*cos(theta6), -1.0*sin(theta6)*cos(theta5),  1.0*sin(theta5), 1.0*pitch2yaw*cos(theta5)],\n",
       "[1.0*sin(theta5)*cos(theta6), -1.0*sin(theta5)*sin(theta6), -1.0*cos(theta5), 1.0*pitch2yaw*sin(theta5)],\n",
       "[            1.0*sin(theta6),              1.0*cos(theta6),                0,                         0],\n",
       "[                          0,                            0,                0,                       1.0]])"
      ]
     },
     "execution_count": 13,
     "metadata": {},
     "output_type": "execute_result"
    }
   ],
   "source": [
    "total = t1_sym*t2_sym*t3_sym*t4_sym\n",
    "total\n"
   ]
  },
  {
   "cell_type": "code",
   "execution_count": 14,
   "metadata": {},
   "outputs": [
    {
     "data": {
      "text/latex": [
       "$\\displaystyle \\left[\\begin{matrix}1.0 \\cos{\\left(\\theta_{5} \\right)} \\cos{\\left(\\theta_{6} \\right)} & - 1.0 \\sin{\\left(\\theta_{6} \\right)} \\cos{\\left(\\theta_{5} \\right)} & 1.0 \\sin{\\left(\\theta_{5} \\right)} & 1.0 pitch2yaw \\cos{\\left(\\theta_{5} \\right)}\\\\1.0 \\sin{\\left(\\theta_{5} \\right)} \\cos{\\left(\\theta_{6} \\right)} & - 1.0 \\sin{\\left(\\theta_{5} \\right)} \\sin{\\left(\\theta_{6} \\right)} & - 1.0 \\cos{\\left(\\theta_{5} \\right)} & 1.0 pitch2yaw \\sin{\\left(\\theta_{5} \\right)}\\\\1.0 \\sin{\\left(\\theta_{6} \\right)} & 1.0 \\cos{\\left(\\theta_{6} \\right)} & 0 & 0\\\\0 & 0 & 0 & 1.0\\end{matrix}\\right]$"
      ],
      "text/plain": [
       "Matrix([\n",
       "[1.0*cos(theta5)*cos(theta6), -1.0*sin(theta6)*cos(theta5),  1.0*sin(theta5), 1.0*pitch2yaw*cos(theta5)],\n",
       "[1.0*sin(theta5)*cos(theta6), -1.0*sin(theta5)*sin(theta6), -1.0*cos(theta5), 1.0*pitch2yaw*sin(theta5)],\n",
       "[            1.0*sin(theta6),              1.0*cos(theta6),                0,                         0],\n",
       "[                          0,                            0,                0,                       1.0]])"
      ]
     },
     "execution_count": 14,
     "metadata": {},
     "output_type": "execute_result"
    }
   ],
   "source": [
    "sym.trigsimp(total)"
   ]
  },
  {
   "cell_type": "markdown",
   "metadata": {},
   "source": [
    "# Trascendental equation solutions "
   ]
  },
  {
   "cell_type": "code",
   "execution_count": 15,
   "metadata": {},
   "outputs": [
    {
     "name": "stdout",
     "output_type": "stream",
     "text": [
      "c:         7.778175\n",
      "theta:     0.966718\n",
      "solution1: 0.966718\n",
      "solution2: 0.785398\n"
     ]
    }
   ],
   "source": [
    "import numpy as np\n",
    "\n",
    "a = 5 \n",
    "b = 6 \n",
    "theta = 45*np.pi/180\n",
    "theta = 0.966718\n",
    "\n",
    "c = a*np.cos(theta) + b*np.sin(theta) \n",
    "\n",
    "t = np.arctan2(np.sqrt(a**2+b**2-c**2),c) \n",
    "s1 = np.arctan2(b,a) + t\n",
    "s2 = np.arctan2(b,a) - t\n",
    "\n",
    "print(f\"c:         {c:8.6f}\")\n",
    "print(f\"theta:     {theta:8.6f}\")\n",
    "print(f\"solution1: {s1:8.6f}\")\n",
    "print(f\"solution2: {s2:8.6f}\")\n"
   ]
  },
  {
   "cell_type": "markdown",
   "metadata": {},
   "source": [
    "# Full robot"
   ]
  },
  {
   "cell_type": "code",
   "execution_count": 10,
   "metadata": {},
   "outputs": [
    {
     "name": "stdout",
     "output_type": "stream",
     "text": [
      "   0         0         1         0         \n",
      "   1         0         0         0         \n",
      "   0         1         0         0.0092    \n",
      "   0         0         0         1         \n",
      "\n",
      "<class 'numpy.ndarray'>\n",
      "[[-0.      0.      1.      0.    ]\n",
      " [ 1.     -0.      0.     -0.    ]\n",
      " [ 0.      1.     -0.      0.0092]\n",
      " [ 0.      0.      0.      1.    ]]\n"
     ]
    }
   ],
   "source": [
    "def create_robot(q5,q6):\n",
    "    pitch2yaw = 0.0092\n",
    "    E = ET.rx(-90,\"deg\")* ET.rz((-90+q5)*np.pi/180) * ET.tx(pitch2yaw) * ET.rx(-90, \"deg\") * ET.rz((-90+q6)*np.pi/180) \n",
    "    return E \n",
    "\n",
    "pose = create_robot(0,0)\n",
    "print(pose.eval())\n",
    "print(type(pose.eval().data[0]))\n",
    "print(pose.eval().data[0])"
   ]
  }
 ],
 "metadata": {
  "interpreter": {
   "hash": "baed89aa1b39a2031dae437c33aac0af6819c4d6eb7107d604149292a91276e2"
  },
  "kernelspec": {
   "display_name": "Python 3.8.12 ('robo_env')",
   "language": "python",
   "name": "python3"
  },
  "language_info": {
   "codemirror_mode": {
    "name": "ipython",
    "version": 3
   },
   "file_extension": ".py",
   "mimetype": "text/x-python",
   "name": "python",
   "nbconvert_exporter": "python",
   "pygments_lexer": "ipython3",
   "version": "3.8.12"
  },
  "orig_nbformat": 4
 },
 "nbformat": 4,
 "nbformat_minor": 2
}
