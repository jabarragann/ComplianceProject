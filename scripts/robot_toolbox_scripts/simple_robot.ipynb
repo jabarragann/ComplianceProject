{
 "cells": [
  {
   "cell_type": "code",
   "execution_count": 36,
   "metadata": {},
   "outputs": [],
   "source": [
    "from typing import List\n",
    "import sympy as sym\n",
    "from spatialmath import SE3\n",
    "from spatialmath.base import *\n",
    "import numpy as np\n",
    "from numpy import sin, cos\n",
    "from roboticstoolbox import ETS as ET\n",
    "import roboticstoolbox as rtb\n",
    "import matplotlib.pyplot as plt\n",
    "from spatialmath import SE3\n",
    "\n",
    "np.set_printoptions(precision=4, suppress=True, sign=\" \")"
   ]
  },
  {
   "cell_type": "code",
   "execution_count": 54,
   "metadata": {},
   "outputs": [],
   "source": [
    "def fkins(q5,q6, unit:str='rad'):\n",
    "    pitch2yaw = 0.0092\n",
    "    if unit == 'deg':\n",
    "        q5 = q5*np.pi/180\n",
    "        q6 = q6*np.pi/180\n",
    "\n",
    "    alpha = 90 * np.pi/180\n",
    "    #fmt:off\n",
    "    transf = [ \\\n",
    "    [-sin(q5)*sin(q6)*cos(alpha)+cos(q5)*cos(q6), -sin(q5)*cos(alpha)*cos(q6)-sin(q6)*cos(q5),sin(alpha)*sin(q5),pitch2yaw*cos(q5)],\\\n",
    "    [ sin(q5)*cos(q6)+sin(q6)*cos(alpha)*cos(q5),-sin(q5)*sin(q6)+cos(alpha)*cos(q5)*cos(q6),-sin(alpha)*cos(q5),pitch2yaw*sin(q5)],\\\n",
    "    [ sin(alpha)*sin(q6), sin(alpha)*cos(q6), 0 , cos(alpha)],\\\n",
    "    [0,0,0,1]\n",
    "    ]\n",
    "    #fmt:on\n",
    "    return np.array(transf)\n",
    "\n",
    "def create_robot():\n",
    "    pitch2yaw = 0.0092\n",
    "    E = ET.rz() * ET.tx(pitch2yaw) * ET.rx(90, \"deg\") * ET.rz() *  ET.tx(0.1) * ET.tz(0.1) \n",
    "    robot = rtb.ERobot(E, name=\"test\")\n",
    "    return robot\n",
    "\n",
    "def rtb_fkins(q5,q6,unit:str='rad'):\n",
    "    pitch2yaw = 0.0092\n",
    "    E = ET.rz() * ET.tx(pitch2yaw) * ET.rx(90, \"deg\") * ET.rz() *  ET.tx(0.1) * ET.tz(0.1)\n",
    "    robot = rtb.ERobot(E, name=\"test\")\n",
    "    return robot.fkine([q5,q6],unit=unit) "
   ]
  },
  {
   "cell_type": "code",
   "execution_count": 56,
   "metadata": {},
   "outputs": [
    {
     "name": "stdout",
     "output_type": "stream",
     "text": [
      "my implementation\n",
      "[[ 0.75   -0.433   0.5     0.008 ]\n",
      " [ 0.433  -0.25   -0.866   0.0046]\n",
      " [ 0.5     0.866   0.      0.    ]\n",
      " [ 0.      0.      0.      1.    ]]\n",
      "robot toolbox implementation\n",
      "[[ 0.75   -0.433   0.5     0.133 ]\n",
      " [ 0.433  -0.25   -0.866  -0.0387]\n",
      " [ 0.5     0.866   0.      0.05  ]\n",
      " [ 0.      0.      0.      1.    ]]\n",
      "Difference between implementations\n",
      "[[ 0.      0.      0.     -0.125 ]\n",
      " [ 0.      0.      0.      0.0433]\n",
      " [ 0.      0.     -0.     -0.05  ]\n",
      " [ 0.      0.      0.      0.    ]]\n"
     ]
    }
   ],
   "source": [
    "# My implementation\n",
    "print(\"my implementation\")\n",
    "print(fkins(30,30,'deg'))\n",
    "print(\"robot toolbox implementation\")\n",
    "robot_sol = rtb_fkins(30,30,'deg').data[0]\n",
    "print(robot_sol)\n",
    "print(\"Difference between implementations\")\n",
    "print(fkins(30,30,'deg')-robot_sol)"
   ]
  },
  {
   "cell_type": "code",
   "execution_count": 51,
   "metadata": {},
   "outputs": [
    {
     "name": "stdout",
     "output_type": "stream",
     "text": [
      "IKsolution(q=array([ 0.5236,  0.7854]), success=True, reason=None, iterations=7, residual=7.762799069097578e-11)\n",
      "[ 30.  45.]\n"
     ]
    }
   ],
   "source": [
    "robot_sol = rtb_fkins(30,45,'deg')\n",
    "robot = create_robot()\n",
    "s = robot.ikine_LM(robot_sol)\n",
    "print(s)\n",
    "q = s.q*180/np.pi\n",
    "print(q)"
   ]
  },
  {
   "cell_type": "markdown",
   "metadata": {},
   "source": [
    "## Mathematical derivation"
   ]
  },
  {
   "cell_type": "code",
   "execution_count": 13,
   "metadata": {},
   "outputs": [
    {
     "data": {
      "text/latex": [
       "$\\displaystyle \\left[\\begin{matrix}\\cos{\\left(\\theta_{5} \\right)} & - \\sin{\\left(\\theta_{5} \\right)} & 0 & 0\\\\\\sin{\\left(\\theta_{5} \\right)} & \\cos{\\left(\\theta_{5} \\right)} & 0 & 0\\\\0 & 0 & 1 & 0\\\\0 & 0 & 0 & 1\\end{matrix}\\right]$"
      ],
      "text/plain": [
       "Matrix([\n",
       "[cos(theta5), -sin(theta5), 0, 0],\n",
       "[sin(theta5),  cos(theta5), 0, 0],\n",
       "[          0,            0, 1, 0],\n",
       "[          0,            0, 0, 1]])"
      ]
     },
     "execution_count": 13,
     "metadata": {},
     "output_type": "execute_result"
    }
   ],
   "source": [
    "#Transformation 1\n",
    "theta = sym.symbols('theta5')\n",
    "t1 = trotz(theta)\n",
    "t1_sym = sym.Matrix(list(t1))\n",
    "t1_sym"
   ]
  },
  {
   "cell_type": "code",
   "execution_count": 8,
   "metadata": {},
   "outputs": [
    {
     "data": {
      "text/latex": [
       "$\\displaystyle \\left[\\begin{matrix}1 & 0 & 0 & pitch2yaw\\\\0 & 1 & 0 & 0\\\\0 & 0 & 1 & 0\\\\0 & 0 & 0 & 1\\end{matrix}\\right]$"
      ],
      "text/plain": [
       "Matrix([\n",
       "[1, 0, 0, pitch2yaw],\n",
       "[0, 1, 0,         0],\n",
       "[0, 0, 1,         0],\n",
       "[0, 0, 0,         1]])"
      ]
     },
     "execution_count": 8,
     "metadata": {},
     "output_type": "execute_result"
    }
   ],
   "source": [
    "#Transformation 2\n",
    "pitch2yaw = 0.092\n",
    "pitch2yaw = sym.symbols('pitch2yaw')\n",
    "t2 = transl(pitch2yaw,0,0)\n",
    "t2_sym = sym.Matrix(list(t2))\n",
    "t2_sym"
   ]
  },
  {
   "cell_type": "code",
   "execution_count": 15,
   "metadata": {},
   "outputs": [
    {
     "data": {
      "text/latex": [
       "$\\displaystyle \\left[\\begin{matrix}1 & 0 & 0 & 0\\\\0 & \\cos{\\left(\\alpha \\right)} & - \\sin{\\left(\\alpha \\right)} & 0\\\\0 & \\sin{\\left(\\alpha \\right)} & \\cos{\\left(\\alpha \\right)} & 0\\\\0 & 0 & 0 & 1\\end{matrix}\\right]$"
      ],
      "text/plain": [
       "Matrix([\n",
       "[1,          0,           0, 0],\n",
       "[0, cos(alpha), -sin(alpha), 0],\n",
       "[0, sin(alpha),  cos(alpha), 0],\n",
       "[0,          0,           0, 1]])"
      ]
     },
     "execution_count": 15,
     "metadata": {},
     "output_type": "execute_result"
    }
   ],
   "source": [
    "#Transformation 3\n",
    "theta = sym.symbols('alpha')\n",
    "t3 = trotx(theta)\n",
    "t3_sym = sym.Matrix(list(t3))\n",
    "t3_sym"
   ]
  },
  {
   "cell_type": "code",
   "execution_count": 14,
   "metadata": {},
   "outputs": [
    {
     "data": {
      "text/latex": [
       "$\\displaystyle \\left[\\begin{matrix}\\cos{\\left(\\theta_{6} \\right)} & - \\sin{\\left(\\theta_{6} \\right)} & 0 & 0\\\\\\sin{\\left(\\theta_{6} \\right)} & \\cos{\\left(\\theta_{6} \\right)} & 0 & 0\\\\0 & 0 & 1 & 0\\\\0 & 0 & 0 & 1\\end{matrix}\\right]$"
      ],
      "text/plain": [
       "Matrix([\n",
       "[cos(theta6), -sin(theta6), 0, 0],\n",
       "[sin(theta6),  cos(theta6), 0, 0],\n",
       "[          0,            0, 1, 0],\n",
       "[          0,            0, 0, 1]])"
      ]
     },
     "execution_count": 14,
     "metadata": {},
     "output_type": "execute_result"
    }
   ],
   "source": [
    "#Transformation 4\n",
    "theta = sym.symbols('theta6')\n",
    "t4 = trotz(theta)\n",
    "t4_sym = sym.Matrix(list(t4))\n",
    "t4_sym"
   ]
  },
  {
   "cell_type": "code",
   "execution_count": 16,
   "metadata": {},
   "outputs": [
    {
     "data": {
      "text/latex": [
       "$\\displaystyle \\left[\\begin{matrix}- \\sin{\\left(\\theta_{5} \\right)} \\sin{\\left(\\theta_{6} \\right)} \\cos{\\left(\\alpha \\right)} + \\cos{\\left(\\theta_{5} \\right)} \\cos{\\left(\\theta_{6} \\right)} & - \\sin{\\left(\\theta_{5} \\right)} \\cos{\\left(\\alpha \\right)} \\cos{\\left(\\theta_{6} \\right)} - \\sin{\\left(\\theta_{6} \\right)} \\cos{\\left(\\theta_{5} \\right)} & \\sin{\\left(\\alpha \\right)} \\sin{\\left(\\theta_{5} \\right)} & pitch2yaw \\cos{\\left(\\theta_{5} \\right)}\\\\\\sin{\\left(\\theta_{5} \\right)} \\cos{\\left(\\theta_{6} \\right)} + \\sin{\\left(\\theta_{6} \\right)} \\cos{\\left(\\alpha \\right)} \\cos{\\left(\\theta_{5} \\right)} & - \\sin{\\left(\\theta_{5} \\right)} \\sin{\\left(\\theta_{6} \\right)} + \\cos{\\left(\\alpha \\right)} \\cos{\\left(\\theta_{5} \\right)} \\cos{\\left(\\theta_{6} \\right)} & - \\sin{\\left(\\alpha \\right)} \\cos{\\left(\\theta_{5} \\right)} & pitch2yaw \\sin{\\left(\\theta_{5} \\right)}\\\\\\sin{\\left(\\alpha \\right)} \\sin{\\left(\\theta_{6} \\right)} & \\sin{\\left(\\alpha \\right)} \\cos{\\left(\\theta_{6} \\right)} & \\cos{\\left(\\alpha \\right)} & 0\\\\0 & 0 & 0 & 1\\end{matrix}\\right]$"
      ],
      "text/plain": [
       "Matrix([\n",
       "[-sin(theta5)*sin(theta6)*cos(alpha) + cos(theta5)*cos(theta6), -sin(theta5)*cos(alpha)*cos(theta6) - sin(theta6)*cos(theta5),  sin(alpha)*sin(theta5), pitch2yaw*cos(theta5)],\n",
       "[ sin(theta5)*cos(theta6) + sin(theta6)*cos(alpha)*cos(theta5), -sin(theta5)*sin(theta6) + cos(alpha)*cos(theta5)*cos(theta6), -sin(alpha)*cos(theta5), pitch2yaw*sin(theta5)],\n",
       "[                                       sin(alpha)*sin(theta6),                                        sin(alpha)*cos(theta6),              cos(alpha),                     0],\n",
       "[                                                            0,                                                             0,                       0,                     1]])"
      ]
     },
     "execution_count": 16,
     "metadata": {},
     "output_type": "execute_result"
    }
   ],
   "source": [
    "total = t1_sym*t2_sym*t3_sym*t4_sym\n",
    "total\n"
   ]
  },
  {
   "cell_type": "code",
   "execution_count": 17,
   "metadata": {},
   "outputs": [
    {
     "data": {
      "text/latex": [
       "$\\displaystyle \\left[\\begin{matrix}- \\sin{\\left(\\theta_{5} \\right)} \\sin{\\left(\\theta_{6} \\right)} \\cos{\\left(\\alpha \\right)} + \\cos{\\left(\\theta_{5} \\right)} \\cos{\\left(\\theta_{6} \\right)} & - \\sin{\\left(\\theta_{5} \\right)} \\cos{\\left(\\alpha \\right)} \\cos{\\left(\\theta_{6} \\right)} - \\sin{\\left(\\theta_{6} \\right)} \\cos{\\left(\\theta_{5} \\right)} & \\sin{\\left(\\alpha \\right)} \\sin{\\left(\\theta_{5} \\right)} & pitch2yaw \\cos{\\left(\\theta_{5} \\right)}\\\\\\sin{\\left(\\theta_{5} \\right)} \\cos{\\left(\\theta_{6} \\right)} + \\sin{\\left(\\theta_{6} \\right)} \\cos{\\left(\\alpha \\right)} \\cos{\\left(\\theta_{5} \\right)} & - \\sin{\\left(\\theta_{5} \\right)} \\sin{\\left(\\theta_{6} \\right)} + \\cos{\\left(\\alpha \\right)} \\cos{\\left(\\theta_{5} \\right)} \\cos{\\left(\\theta_{6} \\right)} & - \\sin{\\left(\\alpha \\right)} \\cos{\\left(\\theta_{5} \\right)} & pitch2yaw \\sin{\\left(\\theta_{5} \\right)}\\\\\\sin{\\left(\\alpha \\right)} \\sin{\\left(\\theta_{6} \\right)} & \\sin{\\left(\\alpha \\right)} \\cos{\\left(\\theta_{6} \\right)} & \\cos{\\left(\\alpha \\right)} & 0\\\\0 & 0 & 0 & 1\\end{matrix}\\right]$"
      ],
      "text/plain": [
       "Matrix([\n",
       "[-sin(theta5)*sin(theta6)*cos(alpha) + cos(theta5)*cos(theta6), -sin(theta5)*cos(alpha)*cos(theta6) - sin(theta6)*cos(theta5),  sin(alpha)*sin(theta5), pitch2yaw*cos(theta5)],\n",
       "[ sin(theta5)*cos(theta6) + sin(theta6)*cos(alpha)*cos(theta5), -sin(theta5)*sin(theta6) + cos(alpha)*cos(theta5)*cos(theta6), -sin(alpha)*cos(theta5), pitch2yaw*sin(theta5)],\n",
       "[                                       sin(alpha)*sin(theta6),                                        sin(alpha)*cos(theta6),              cos(alpha),                     0],\n",
       "[                                                            0,                                                             0,                       0,                     1]])"
      ]
     },
     "execution_count": 17,
     "metadata": {},
     "output_type": "execute_result"
    }
   ],
   "source": [
    "sym.trigsimp(total)"
   ]
  }
 ],
 "metadata": {
  "interpreter": {
   "hash": "baed89aa1b39a2031dae437c33aac0af6819c4d6eb7107d604149292a91276e2"
  },
  "kernelspec": {
   "display_name": "Python 3.8.12 ('robo_env')",
   "language": "python",
   "name": "python3"
  },
  "language_info": {
   "codemirror_mode": {
    "name": "ipython",
    "version": 3
   },
   "file_extension": ".py",
   "mimetype": "text/x-python",
   "name": "python",
   "nbconvert_exporter": "python",
   "pygments_lexer": "ipython3",
   "version": "3.8.12"
  },
  "orig_nbformat": 4
 },
 "nbformat": 4,
 "nbformat_minor": 2
}
